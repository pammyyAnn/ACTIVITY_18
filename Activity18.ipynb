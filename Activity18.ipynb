{
  "nbformat": 4,
  "nbformat_minor": 0,
  "metadata": {
    "colab": {
      "provenance": [],
      "authorship_tag": "ABX9TyMnXu1/eFYqiMTf1G3U4tC4",
      "include_colab_link": true
    },
    "kernelspec": {
      "name": "python3",
      "display_name": "Python 3"
    },
    "language_info": {
      "name": "python"
    }
  },
  "cells": [
    {
      "cell_type": "markdown",
      "metadata": {
        "id": "view-in-github",
        "colab_type": "text"
      },
      "source": [
        "<a href=\"https://colab.research.google.com/github/pammyyAnn/ACTIVITY_18/blob/main/Activity18.ipynb\" target=\"_parent\"><img src=\"https://colab.research.google.com/assets/colab-badge.svg\" alt=\"Open In Colab\"/></a>"
      ]
    },
    {
      "cell_type": "code",
      "execution_count": 1,
      "metadata": {
        "colab": {
          "base_uri": "https://localhost:8080/"
        },
        "id": "6T6I-d0hxLFR",
        "outputId": "7216da6a-bf2b-477e-af74-7f03b28e831f"
      },
      "outputs": [
        {
          "output_type": "stream",
          "name": "stdout",
          "text": [
            "Mounted at /content/drive\n"
          ]
        }
      ],
      "source": [
        "from google.colab import drive\n",
        "drive.mount('/content/drive')"
      ]
    },
    {
      "cell_type": "code",
      "source": [
        "import pandas as pd"
      ],
      "metadata": {
        "id": "TfIBwdHlx0DV"
      },
      "execution_count": 2,
      "outputs": []
    },
    {
      "cell_type": "code",
      "source": [
        "filename = '/content/drive/MyDrive/FINAL_ACT1_PAM/CalIt2.csv'\n",
        "df = pd.read_csv(filename)"
      ],
      "metadata": {
        "id": "hRk3HloOx3fj"
      },
      "execution_count": 3,
      "outputs": []
    },
    {
      "cell_type": "code",
      "source": [
        "df.head()"
      ],
      "metadata": {
        "colab": {
          "base_uri": "https://localhost:8080/",
          "height": 206
        },
        "id": "buFuvEYqyC8o",
        "outputId": "b328db1f-599e-4cf0-e553-09b40410fb12"
      },
      "execution_count": 4,
      "outputs": [
        {
          "output_type": "execute_result",
          "data": {
            "text/plain": [
              "   7  07/24/05  00:00:00  0\n",
              "0  9  07/24/05  00:00:00  0\n",
              "1  7  07/24/05  00:30:00  1\n",
              "2  9  07/24/05  00:30:00  0\n",
              "3  7  07/24/05  01:00:00  0\n",
              "4  9  07/24/05  01:00:00  0"
            ],
            "text/html": [
              "\n",
              "  <div id=\"df-2cd34669-8627-4c46-ae55-df6687dbeba3\">\n",
              "    <div class=\"colab-df-container\">\n",
              "      <div>\n",
              "<style scoped>\n",
              "    .dataframe tbody tr th:only-of-type {\n",
              "        vertical-align: middle;\n",
              "    }\n",
              "\n",
              "    .dataframe tbody tr th {\n",
              "        vertical-align: top;\n",
              "    }\n",
              "\n",
              "    .dataframe thead th {\n",
              "        text-align: right;\n",
              "    }\n",
              "</style>\n",
              "<table border=\"1\" class=\"dataframe\">\n",
              "  <thead>\n",
              "    <tr style=\"text-align: right;\">\n",
              "      <th></th>\n",
              "      <th>7</th>\n",
              "      <th>07/24/05</th>\n",
              "      <th>00:00:00</th>\n",
              "      <th>0</th>\n",
              "    </tr>\n",
              "  </thead>\n",
              "  <tbody>\n",
              "    <tr>\n",
              "      <th>0</th>\n",
              "      <td>9</td>\n",
              "      <td>07/24/05</td>\n",
              "      <td>00:00:00</td>\n",
              "      <td>0</td>\n",
              "    </tr>\n",
              "    <tr>\n",
              "      <th>1</th>\n",
              "      <td>7</td>\n",
              "      <td>07/24/05</td>\n",
              "      <td>00:30:00</td>\n",
              "      <td>1</td>\n",
              "    </tr>\n",
              "    <tr>\n",
              "      <th>2</th>\n",
              "      <td>9</td>\n",
              "      <td>07/24/05</td>\n",
              "      <td>00:30:00</td>\n",
              "      <td>0</td>\n",
              "    </tr>\n",
              "    <tr>\n",
              "      <th>3</th>\n",
              "      <td>7</td>\n",
              "      <td>07/24/05</td>\n",
              "      <td>01:00:00</td>\n",
              "      <td>0</td>\n",
              "    </tr>\n",
              "    <tr>\n",
              "      <th>4</th>\n",
              "      <td>9</td>\n",
              "      <td>07/24/05</td>\n",
              "      <td>01:00:00</td>\n",
              "      <td>0</td>\n",
              "    </tr>\n",
              "  </tbody>\n",
              "</table>\n",
              "</div>\n",
              "      <button class=\"colab-df-convert\" onclick=\"convertToInteractive('df-2cd34669-8627-4c46-ae55-df6687dbeba3')\"\n",
              "              title=\"Convert this dataframe to an interactive table.\"\n",
              "              style=\"display:none;\">\n",
              "        \n",
              "  <svg xmlns=\"http://www.w3.org/2000/svg\" height=\"24px\"viewBox=\"0 0 24 24\"\n",
              "       width=\"24px\">\n",
              "    <path d=\"M0 0h24v24H0V0z\" fill=\"none\"/>\n",
              "    <path d=\"M18.56 5.44l.94 2.06.94-2.06 2.06-.94-2.06-.94-.94-2.06-.94 2.06-2.06.94zm-11 1L8.5 8.5l.94-2.06 2.06-.94-2.06-.94L8.5 2.5l-.94 2.06-2.06.94zm10 10l.94 2.06.94-2.06 2.06-.94-2.06-.94-.94-2.06-.94 2.06-2.06.94z\"/><path d=\"M17.41 7.96l-1.37-1.37c-.4-.4-.92-.59-1.43-.59-.52 0-1.04.2-1.43.59L10.3 9.45l-7.72 7.72c-.78.78-.78 2.05 0 2.83L4 21.41c.39.39.9.59 1.41.59.51 0 1.02-.2 1.41-.59l7.78-7.78 2.81-2.81c.8-.78.8-2.07 0-2.86zM5.41 20L4 18.59l7.72-7.72 1.47 1.35L5.41 20z\"/>\n",
              "  </svg>\n",
              "      </button>\n",
              "      \n",
              "  <style>\n",
              "    .colab-df-container {\n",
              "      display:flex;\n",
              "      flex-wrap:wrap;\n",
              "      gap: 12px;\n",
              "    }\n",
              "\n",
              "    .colab-df-convert {\n",
              "      background-color: #E8F0FE;\n",
              "      border: none;\n",
              "      border-radius: 50%;\n",
              "      cursor: pointer;\n",
              "      display: none;\n",
              "      fill: #1967D2;\n",
              "      height: 32px;\n",
              "      padding: 0 0 0 0;\n",
              "      width: 32px;\n",
              "    }\n",
              "\n",
              "    .colab-df-convert:hover {\n",
              "      background-color: #E2EBFA;\n",
              "      box-shadow: 0px 1px 2px rgba(60, 64, 67, 0.3), 0px 1px 3px 1px rgba(60, 64, 67, 0.15);\n",
              "      fill: #174EA6;\n",
              "    }\n",
              "\n",
              "    [theme=dark] .colab-df-convert {\n",
              "      background-color: #3B4455;\n",
              "      fill: #D2E3FC;\n",
              "    }\n",
              "\n",
              "    [theme=dark] .colab-df-convert:hover {\n",
              "      background-color: #434B5C;\n",
              "      box-shadow: 0px 1px 3px 1px rgba(0, 0, 0, 0.15);\n",
              "      filter: drop-shadow(0px 1px 2px rgba(0, 0, 0, 0.3));\n",
              "      fill: #FFFFFF;\n",
              "    }\n",
              "  </style>\n",
              "\n",
              "      <script>\n",
              "        const buttonEl =\n",
              "          document.querySelector('#df-2cd34669-8627-4c46-ae55-df6687dbeba3 button.colab-df-convert');\n",
              "        buttonEl.style.display =\n",
              "          google.colab.kernel.accessAllowed ? 'block' : 'none';\n",
              "\n",
              "        async function convertToInteractive(key) {\n",
              "          const element = document.querySelector('#df-2cd34669-8627-4c46-ae55-df6687dbeba3');\n",
              "          const dataTable =\n",
              "            await google.colab.kernel.invokeFunction('convertToInteractive',\n",
              "                                                     [key], {});\n",
              "          if (!dataTable) return;\n",
              "\n",
              "          const docLinkHtml = 'Like what you see? Visit the ' +\n",
              "            '<a target=\"_blank\" href=https://colab.research.google.com/notebooks/data_table.ipynb>data table notebook</a>'\n",
              "            + ' to learn more about interactive tables.';\n",
              "          element.innerHTML = '';\n",
              "          dataTable['output_type'] = 'display_data';\n",
              "          await google.colab.output.renderOutput(dataTable, element);\n",
              "          const docLink = document.createElement('div');\n",
              "          docLink.innerHTML = docLinkHtml;\n",
              "          element.appendChild(docLink);\n",
              "        }\n",
              "      </script>\n",
              "    </div>\n",
              "  </div>\n",
              "  "
            ]
          },
          "metadata": {},
          "execution_count": 4
        }
      ]
    },
    {
      "cell_type": "code",
      "source": [
        "df.columns = ['Flow_ID', 'Date', 'Time', 'Count']"
      ],
      "metadata": {
        "id": "JzehSiXiyGP3"
      },
      "execution_count": 5,
      "outputs": []
    },
    {
      "cell_type": "code",
      "source": [
        "df.head()"
      ],
      "metadata": {
        "colab": {
          "base_uri": "https://localhost:8080/",
          "height": 206
        },
        "id": "icQ_R3fbyn5W",
        "outputId": "3d3faee7-58ee-466f-9392-1d4da281d1bf"
      },
      "execution_count": 6,
      "outputs": [
        {
          "output_type": "execute_result",
          "data": {
            "text/plain": [
              "   Flow_ID      Date      Time  Count\n",
              "0        9  07/24/05  00:00:00      0\n",
              "1        7  07/24/05  00:30:00      1\n",
              "2        9  07/24/05  00:30:00      0\n",
              "3        7  07/24/05  01:00:00      0\n",
              "4        9  07/24/05  01:00:00      0"
            ],
            "text/html": [
              "\n",
              "  <div id=\"df-3b05a7c8-59f3-4ba7-9f16-266d3fccc236\">\n",
              "    <div class=\"colab-df-container\">\n",
              "      <div>\n",
              "<style scoped>\n",
              "    .dataframe tbody tr th:only-of-type {\n",
              "        vertical-align: middle;\n",
              "    }\n",
              "\n",
              "    .dataframe tbody tr th {\n",
              "        vertical-align: top;\n",
              "    }\n",
              "\n",
              "    .dataframe thead th {\n",
              "        text-align: right;\n",
              "    }\n",
              "</style>\n",
              "<table border=\"1\" class=\"dataframe\">\n",
              "  <thead>\n",
              "    <tr style=\"text-align: right;\">\n",
              "      <th></th>\n",
              "      <th>Flow_ID</th>\n",
              "      <th>Date</th>\n",
              "      <th>Time</th>\n",
              "      <th>Count</th>\n",
              "    </tr>\n",
              "  </thead>\n",
              "  <tbody>\n",
              "    <tr>\n",
              "      <th>0</th>\n",
              "      <td>9</td>\n",
              "      <td>07/24/05</td>\n",
              "      <td>00:00:00</td>\n",
              "      <td>0</td>\n",
              "    </tr>\n",
              "    <tr>\n",
              "      <th>1</th>\n",
              "      <td>7</td>\n",
              "      <td>07/24/05</td>\n",
              "      <td>00:30:00</td>\n",
              "      <td>1</td>\n",
              "    </tr>\n",
              "    <tr>\n",
              "      <th>2</th>\n",
              "      <td>9</td>\n",
              "      <td>07/24/05</td>\n",
              "      <td>00:30:00</td>\n",
              "      <td>0</td>\n",
              "    </tr>\n",
              "    <tr>\n",
              "      <th>3</th>\n",
              "      <td>7</td>\n",
              "      <td>07/24/05</td>\n",
              "      <td>01:00:00</td>\n",
              "      <td>0</td>\n",
              "    </tr>\n",
              "    <tr>\n",
              "      <th>4</th>\n",
              "      <td>9</td>\n",
              "      <td>07/24/05</td>\n",
              "      <td>01:00:00</td>\n",
              "      <td>0</td>\n",
              "    </tr>\n",
              "  </tbody>\n",
              "</table>\n",
              "</div>\n",
              "      <button class=\"colab-df-convert\" onclick=\"convertToInteractive('df-3b05a7c8-59f3-4ba7-9f16-266d3fccc236')\"\n",
              "              title=\"Convert this dataframe to an interactive table.\"\n",
              "              style=\"display:none;\">\n",
              "        \n",
              "  <svg xmlns=\"http://www.w3.org/2000/svg\" height=\"24px\"viewBox=\"0 0 24 24\"\n",
              "       width=\"24px\">\n",
              "    <path d=\"M0 0h24v24H0V0z\" fill=\"none\"/>\n",
              "    <path d=\"M18.56 5.44l.94 2.06.94-2.06 2.06-.94-2.06-.94-.94-2.06-.94 2.06-2.06.94zm-11 1L8.5 8.5l.94-2.06 2.06-.94-2.06-.94L8.5 2.5l-.94 2.06-2.06.94zm10 10l.94 2.06.94-2.06 2.06-.94-2.06-.94-.94-2.06-.94 2.06-2.06.94z\"/><path d=\"M17.41 7.96l-1.37-1.37c-.4-.4-.92-.59-1.43-.59-.52 0-1.04.2-1.43.59L10.3 9.45l-7.72 7.72c-.78.78-.78 2.05 0 2.83L4 21.41c.39.39.9.59 1.41.59.51 0 1.02-.2 1.41-.59l7.78-7.78 2.81-2.81c.8-.78.8-2.07 0-2.86zM5.41 20L4 18.59l7.72-7.72 1.47 1.35L5.41 20z\"/>\n",
              "  </svg>\n",
              "      </button>\n",
              "      \n",
              "  <style>\n",
              "    .colab-df-container {\n",
              "      display:flex;\n",
              "      flex-wrap:wrap;\n",
              "      gap: 12px;\n",
              "    }\n",
              "\n",
              "    .colab-df-convert {\n",
              "      background-color: #E8F0FE;\n",
              "      border: none;\n",
              "      border-radius: 50%;\n",
              "      cursor: pointer;\n",
              "      display: none;\n",
              "      fill: #1967D2;\n",
              "      height: 32px;\n",
              "      padding: 0 0 0 0;\n",
              "      width: 32px;\n",
              "    }\n",
              "\n",
              "    .colab-df-convert:hover {\n",
              "      background-color: #E2EBFA;\n",
              "      box-shadow: 0px 1px 2px rgba(60, 64, 67, 0.3), 0px 1px 3px 1px rgba(60, 64, 67, 0.15);\n",
              "      fill: #174EA6;\n",
              "    }\n",
              "\n",
              "    [theme=dark] .colab-df-convert {\n",
              "      background-color: #3B4455;\n",
              "      fill: #D2E3FC;\n",
              "    }\n",
              "\n",
              "    [theme=dark] .colab-df-convert:hover {\n",
              "      background-color: #434B5C;\n",
              "      box-shadow: 0px 1px 3px 1px rgba(0, 0, 0, 0.15);\n",
              "      filter: drop-shadow(0px 1px 2px rgba(0, 0, 0, 0.3));\n",
              "      fill: #FFFFFF;\n",
              "    }\n",
              "  </style>\n",
              "\n",
              "      <script>\n",
              "        const buttonEl =\n",
              "          document.querySelector('#df-3b05a7c8-59f3-4ba7-9f16-266d3fccc236 button.colab-df-convert');\n",
              "        buttonEl.style.display =\n",
              "          google.colab.kernel.accessAllowed ? 'block' : 'none';\n",
              "\n",
              "        async function convertToInteractive(key) {\n",
              "          const element = document.querySelector('#df-3b05a7c8-59f3-4ba7-9f16-266d3fccc236');\n",
              "          const dataTable =\n",
              "            await google.colab.kernel.invokeFunction('convertToInteractive',\n",
              "                                                     [key], {});\n",
              "          if (!dataTable) return;\n",
              "\n",
              "          const docLinkHtml = 'Like what you see? Visit the ' +\n",
              "            '<a target=\"_blank\" href=https://colab.research.google.com/notebooks/data_table.ipynb>data table notebook</a>'\n",
              "            + ' to learn more about interactive tables.';\n",
              "          element.innerHTML = '';\n",
              "          dataTable['output_type'] = 'display_data';\n",
              "          await google.colab.output.renderOutput(dataTable, element);\n",
              "          const docLink = document.createElement('div');\n",
              "          docLink.innerHTML = docLinkHtml;\n",
              "          element.appendChild(docLink);\n",
              "        }\n",
              "      </script>\n",
              "    </div>\n",
              "  </div>\n",
              "  "
            ]
          },
          "metadata": {},
          "execution_count": 6
        }
      ]
    },
    {
      "cell_type": "code",
      "source": [
        "selected_data = df[(df['Date'] == '07/24/05') & (df['Flow_ID'] == 9)]\n",
        "print(\"Selected data:\")\n",
        "print(selected_data)"
      ],
      "metadata": {
        "colab": {
          "base_uri": "https://localhost:8080/"
        },
        "id": "4cC8dlgtyvH5",
        "outputId": "261823ed-50a0-4273-9b3f-eb494529e02b"
      },
      "execution_count": 8,
      "outputs": [
        {
          "output_type": "stream",
          "name": "stdout",
          "text": [
            "Selected data:\n",
            "    Flow_ID      Date      Time  Count\n",
            "0         9  07/24/05  00:00:00      0\n",
            "2         9  07/24/05  00:30:00      0\n",
            "4         9  07/24/05  01:00:00      0\n",
            "6         9  07/24/05  01:30:00      0\n",
            "8         9  07/24/05  02:00:00      0\n",
            "10        9  07/24/05  02:30:00      0\n",
            "12        9  07/24/05  03:00:00      0\n",
            "14        9  07/24/05  03:30:00      0\n",
            "16        9  07/24/05  04:00:00      0\n",
            "18        9  07/24/05  04:30:00      0\n",
            "20        9  07/24/05  05:00:00      0\n",
            "22        9  07/24/05  05:30:00      0\n",
            "24        9  07/24/05  06:00:00      0\n",
            "26        9  07/24/05  06:30:00      0\n",
            "28        9  07/24/05  07:00:00      0\n",
            "30        9  07/24/05  07:30:00      3\n",
            "32        9  07/24/05  08:00:00      0\n",
            "34        9  07/24/05  08:30:00      0\n",
            "36        9  07/24/05  09:00:00      1\n",
            "38        9  07/24/05  09:30:00      1\n",
            "40        9  07/24/05  10:00:00      0\n",
            "42        9  07/24/05  10:30:00      0\n",
            "44        9  07/24/05  11:00:00      0\n",
            "46        9  07/24/05  11:30:00      0\n",
            "48        9  07/24/05  12:00:00      0\n",
            "50        9  07/24/05  12:30:00      0\n",
            "52        9  07/24/05  13:00:00      0\n",
            "54        9  07/24/05  13:30:00      0\n",
            "56        9  07/24/05  14:00:00      0\n",
            "58        9  07/24/05  14:30:00      0\n",
            "60        9  07/24/05  15:00:00      0\n",
            "62        9  07/24/05  15:30:00      2\n",
            "64        9  07/24/05  16:00:00      0\n",
            "66        9  07/24/05  16:30:00      1\n",
            "68        9  07/24/05  17:00:00      1\n",
            "70        9  07/24/05  17:30:00      1\n",
            "72        9  07/24/05  18:00:00      4\n",
            "74        9  07/24/05  18:30:00      0\n",
            "76        9  07/24/05  19:00:00      0\n",
            "78        9  07/24/05  19:30:00      2\n",
            "80        9  07/24/05  20:00:00      0\n",
            "82        9  07/24/05  20:30:00      0\n",
            "84        9  07/24/05  21:00:00      0\n",
            "86        9  07/24/05  21:30:00      0\n",
            "88        9  07/24/05  22:00:00      0\n",
            "90        9  07/24/05  22:30:00      0\n",
            "92        9  07/24/05  23:00:00      0\n",
            "94        9  07/24/05  23:30:00      0\n"
          ]
        }
      ]
    },
    {
      "cell_type": "code",
      "source": [
        "top5 = selected_data.sort_values('Count', ascending=False).head(5)\n",
        "print(\"\\nTop 5 rows:\")\n",
        "print(top5)"
      ],
      "metadata": {
        "colab": {
          "base_uri": "https://localhost:8080/"
        },
        "id": "lcaQf7IXzN0N",
        "outputId": "85e3751e-d89c-4795-a94f-0cf82bc10fe8"
      },
      "execution_count": 9,
      "outputs": [
        {
          "output_type": "stream",
          "name": "stdout",
          "text": [
            "\n",
            "Top 5 rows:\n",
            "    Flow_ID      Date      Time  Count\n",
            "72        9  07/24/05  18:00:00      4\n",
            "30        9  07/24/05  07:30:00      3\n",
            "62        9  07/24/05  15:30:00      2\n",
            "78        9  07/24/05  19:30:00      2\n",
            "70        9  07/24/05  17:30:00      1\n"
          ]
        }
      ]
    },
    {
      "cell_type": "code",
      "source": [
        "lowest_value = top5['Count'].min()\n",
        "top5['Adjusted_Count'] = top5['Count'].apply(lambda x: x - lowest_value)\n",
        "average_count = top5['Adjusted_Count'].mean()\n",
        "print(\"\\nAverage adjusted count:\")\n",
        "print(average_count)"
      ],
      "metadata": {
        "colab": {
          "base_uri": "https://localhost:8080/"
        },
        "id": "qG04aHVizT4C",
        "outputId": "e4dd70f0-075b-4a07-8067-82a38911b4cb"
      },
      "execution_count": 10,
      "outputs": [
        {
          "output_type": "stream",
          "name": "stdout",
          "text": [
            "\n",
            "Average adjusted count:\n",
            "1.4\n"
          ]
        }
      ]
    },
    {
      "cell_type": "code",
      "source": [
        "lowest_value = top5['Count'].min()\n",
        "top5['Adjusted_Count'] = top5['Count'].apply(lambda x: x - lowest_value)\n",
        "average_count = top5['Adjusted_Count'].mean()\n",
        "print(\"\\nAverage adjusted count:\")\n",
        "print(average_count)"
      ],
      "metadata": {
        "colab": {
          "base_uri": "https://localhost:8080/"
        },
        "id": "5v_--kM1zYgs",
        "outputId": "16555c2f-511a-4126-b88b-88615f1bf24e"
      },
      "execution_count": 11,
      "outputs": [
        {
          "output_type": "stream",
          "name": "stdout",
          "text": [
            "\n",
            "Average adjusted count:\n",
            "1.4\n"
          ]
        }
      ]
    },
    {
      "cell_type": "code",
      "source": [
        "july_data = df[(df['Date'].str.startswith('08/')) & (df['Flow_ID'] == 7)]\n",
        "print(\"\\nJuly data:\")\n",
        "print(july_data)"
      ],
      "metadata": {
        "colab": {
          "base_uri": "https://localhost:8080/"
        },
        "id": "J6lo8pcTzdcr",
        "outputId": "296bb59c-b447-4c16-c4dd-2ac7d8271387"
      },
      "execution_count": 12,
      "outputs": [
        {
          "output_type": "stream",
          "name": "stdout",
          "text": [
            "\n",
            "July data:\n",
            "      Flow_ID      Date      Time  Count\n",
            "767         7  08/01/05  00:00:00      1\n",
            "769         7  08/01/05  00:30:00      0\n",
            "771         7  08/01/05  01:00:00      0\n",
            "773         7  08/01/05  01:30:00      0\n",
            "775         7  08/01/05  02:00:00      0\n",
            "...       ...       ...       ...    ...\n",
            "3733        7  08/31/05  21:30:00      0\n",
            "3735        7  08/31/05  22:00:00      2\n",
            "3737        7  08/31/05  22:30:00      1\n",
            "3739        7  08/31/05  23:00:00      0\n",
            "3741        7  08/31/05  23:30:00      2\n",
            "\n",
            "[1488 rows x 4 columns]\n"
          ]
        }
      ]
    },
    {
      "cell_type": "code",
      "source": [
        "max_count_per_date = july_data.groupby('Date')['Count'].max()\n",
        "print(\"\\nMaximum count per date:\")\n",
        "print(max_count_per_date)"
      ],
      "metadata": {
        "colab": {
          "base_uri": "https://localhost:8080/"
        },
        "id": "TuLH0RnTzg0e",
        "outputId": "929c4ddf-2b52-429a-b10b-ee23b61fa2f4"
      },
      "execution_count": 13,
      "outputs": [
        {
          "output_type": "stream",
          "name": "stdout",
          "text": [
            "\n",
            "Maximum count per date:\n",
            "Date\n",
            "08/01/05    18\n",
            "08/02/05    16\n",
            "08/03/05    26\n",
            "08/04/05    40\n",
            "08/05/05    17\n",
            "08/06/05     8\n",
            "08/07/05     3\n",
            "08/08/05    16\n",
            "08/09/05    19\n",
            "08/10/05    25\n",
            "08/11/05    16\n",
            "08/12/05    21\n",
            "08/13/05     5\n",
            "08/14/05     3\n",
            "08/15/05    17\n",
            "08/16/05    24\n",
            "08/17/05    22\n",
            "08/18/05    39\n",
            "08/19/05    23\n",
            "08/20/05     3\n",
            "08/21/05     4\n",
            "08/22/05    23\n",
            "08/23/05    25\n",
            "08/24/05    17\n",
            "08/25/05    24\n",
            "08/26/05    22\n",
            "08/27/05     3\n",
            "08/28/05     7\n",
            "08/29/05    15\n",
            "08/30/05    47\n",
            "08/31/05    19\n",
            "Name: Count, dtype: int64\n"
          ]
        }
      ]
    }
  ]
}